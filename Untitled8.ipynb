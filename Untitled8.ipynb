{
  "nbformat": 4,
  "nbformat_minor": 0,
  "metadata": {
    "colab": {
      "provenance": [],
      "authorship_tag": "ABX9TyPMBMZxXoWmxau/pwoH2pUS",
      "include_colab_link": true
    },
    "kernelspec": {
      "name": "python3",
      "display_name": "Python 3"
    },
    "language_info": {
      "name": "python"
    }
  },
  "cells": [
    {
      "cell_type": "markdown",
      "metadata": {
        "id": "view-in-github",
        "colab_type": "text"
      },
      "source": [
        "<a href=\"https://colab.research.google.com/github/DianaAulia148/-Bisa-ngoding/blob/main/Untitled8.ipynb\" target=\"_parent\"><img src=\"https://colab.research.google.com/assets/colab-badge.svg\" alt=\"Open In Colab\"/></a>"
      ]
    },
    {
      "cell_type": "code",
      "execution_count": null,
      "metadata": {
        "id": "NLLt2PpxffFi"
      },
      "outputs": [],
      "source": [
        "<mxGraphModel dx=\"1421\" dy=\"739\" grid=\"1\" gridSize=\"10\" guides=\"1\" tooltips=\"1\" connect=\"1\" arrows=\"1\" fold=\"1\" page=\"1\" pageScale=\"1\" pageWidth=\"827\" pageHeight=\"1169\" math=\"0\" shadow=\"0\">\n",
        "  <root>\n",
        "    <mxCell id=\"0\" />\n",
        "    <mxCell id=\"1\" parent=\"0\" />\n",
        "    <mxCell id=\"2\" value=\"Registration\" style=\"rounded=0;whiteSpace=wrap;html=1;\" vertex=\"1\" parent=\"1\">\n",
        "      <mxGeometry x=\"120\" y=\"60\" width=\"160\" height=\"160\" as=\"geometry\" />\n",
        "    </mxCell>\n",
        "    <mxCell id=\"3\" value=\"User\" style=\"rounded=0;whiteSpace=wrap;html=1;\" vertex=\"1\" parent=\"1\">\n",
        "      <mxGeometry x=\"360\" y=\"60\" width=\"160\" height=\"80\" as=\"geometry\" />\n",
        "    </mxCell>\n",
        "    <mxCell id=\"4\" value=\"Kepala Panti\" style=\"rounded=0;whiteSpace=wrap;html=1;\" vertex=\"1\" parent=\"1\">\n",
        "      <mxGeometry x=\"120\" y=\"300\" width=\"160\" height=\"160\" as=\"geometry\" />\n",
        "    </mxCell>\n",
        "    <mxCell id=\"5\" value=\"Pengurus\" style=\"rounded=0;whiteSpace=wrap;html=1;\" vertex=\"1\" parent=\"1\">\n",
        "      <mxGeometry x=\"20\" y=\"500\" width=\"160\" height=\"80\" as=\"geometry\" />\n",
        "    </mxCell>\n",
        "    <mxCell id=\"6\" value=\"Sub-Kriteria\" style=\"rounded=0;whiteSpace=wrap;html=1;\" vertex=\"1\" parent=\"1\">\n",
        "      <mxGeometry x=\"20\" y=\"620\" width=\"160\" height=\"160\" as=\"geometry\" />\n",
        "    </mxCell>\n",
        "    <mxCell id=\"7\" value=\"Kriteria\" style=\"rounded=0;whiteSpace=wrap;html=1;\" vertex=\"1\" parent=\"1\">\n",
        "      <mxGeometry x=\"220\" y=\"620\" width=\"160\" height=\"160\" as=\"geometry\" />\n",
        "    </mxCell>\n",
        "    <mxCell id=\"8\" value=\"Penerima\" style=\"rounded=0;whiteSpace=wrap;html=1;\" vertex=\"1\" parent=\"1\">\n",
        "      <mxGeometry x=\"420\" y=\"500\" width=\"160\" height=\"80\" as=\"geometry\" />\n",
        "    </mxCell>\n",
        "    <mxCell id=\"9\" value=\"Calon Anak\" style=\"rounded=0;whiteSpace=wrap;html=1;\" vertex=\"1\" parent=\"1\">\n",
        "      <mxGeometry x=\"620\" y=\"300\" width=\"160\" height=\"160\" as=\"geometry\" />\n",
        "    </mxCell>\n",
        "    <mxCell id=\"10\" value=\"Anak\" style=\"rounded=0;whiteSpace=wrap;html=1;\" vertex=\"1\" parent=\"1\">\n",
        "      <mxGeometry x=\"820\" y=\"300\" width=\"160\" height=\"80\" as=\"geometry\" />\n",
        "    </mxCell>\n",
        "    <mxCell id=\"11\" edge=\"1\" source=\"2\" target=\"3\" style=\"edgeStyle=orthogonalEdgeStyle;rounded=1;orthogonalLoop=1;jettySize=auto;\">\n",
        "      <mxGeometry relative=\"1\" as=\"geometry\" />\n",
        "    </mxCell>\n",
        "    <mxCell id=\"12\" edge=\"1\" source=\"4\" target=\"5\" style=\"edgeStyle=orthogonalEdgeStyle;rounded=1;orthogonalLoop=1;jettySize=auto;\">\n",
        "      <mxGeometry relative=\"1\" as=\"geometry\" />\n",
        "    </mxCell>\n",
        "    <mxCell id=\"13\" edge=\"1\" source=\"5\" target=\"6\" style=\"edgeStyle=orthogonalEdgeStyle;rounded=1;orthogonalLoop=1;jettySize=auto;\">\n",
        "      <mxGeometry relative=\"1\" as=\"geometry\" />\n",
        "    </mxCell>\n",
        "    <mxCell id=\"14\" edge=\"1\" source=\"5\" target=\"7\" style=\"edgeStyle=orthogonalEdgeStyle;rounded=1;orthogonalLoop=1;jettySize=auto;\">\n",
        "      <mxGeometry relative=\"1\" as=\"geometry\" />\n",
        "    </mxCell>\n",
        "    <mxCell id=\"15\" edge=\"1\" source=\"5\" target=\"8\" style=\"edgeStyle=orthogonalEdgeStyle;rounded=1;orthogonalLoop=1;jettySize=auto;\">\n",
        "      <mxGeometry relative=\"1\" as=\"geometry\" />\n",
        "    </mxCell>\n",
        "    <mxCell id=\"16\" edge=\"1\" source=\"9\" target=\"10\" style=\"edgeStyle=orthogonalEdgeStyle;rounded=1;orthogonalLoop=1;jettySize=auto;\">\n",
        "      <mxGeometry relative=\"1\" as=\"geometry\" />\n",
        "    </mxCell>\n",
        "  </root>\n",
        "</mxGraphModel>\n"
      ]
    }
  ]
}